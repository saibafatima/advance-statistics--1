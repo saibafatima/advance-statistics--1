{
 "cells": [
  {
   "cell_type": "code",
   "execution_count": 1,
   "id": "e2eaf91e-3bff-4c75-af79-de7acd172960",
   "metadata": {},
   "outputs": [
    {
     "ename": "SyntaxError",
     "evalue": "invalid syntax (2902254848.py, line 3)",
     "output_type": "error",
     "traceback": [
      "\u001b[0;36m  Cell \u001b[0;32mIn[1], line 3\u001b[0;36m\u001b[0m\n\u001b[0;31m    A Probability Density Function (PDF) is a function that describes the probability distribution of a continuous random variable. It is a non-negative function that integrates to 1 over the entire range of the variable. The PDF is used to calculate the probability of a random variable taking on a specific value or range of values.\u001b[0m\n\u001b[0m      ^\u001b[0m\n\u001b[0;31mSyntaxError\u001b[0m\u001b[0;31m:\u001b[0m invalid syntax\n"
     ]
    }
   ],
   "source": [
    "Q1. What is the Probability density function?\n",
    "\n",
    "A Probability Density Function (PDF) is a function that describes the probability distribution of a continuous random variable. It is a non-negative function that integrates to 1 over the entire range of the variable. The PDF is used to calculate the probability of a random variable taking on a specific value or range of values."
   ]
  },
  {
   "cell_type": "code",
   "execution_count": 2,
   "id": "0f526cd2-e71d-4b21-b887-521067e4a938",
   "metadata": {},
   "outputs": [
    {
     "ename": "SyntaxError",
     "evalue": "invalid syntax (1504541758.py, line 3)",
     "output_type": "error",
     "traceback": [
      "\u001b[0;36m  Cell \u001b[0;32mIn[2], line 3\u001b[0;36m\u001b[0m\n\u001b[0;31m    There are several types of probability distributions, including:\u001b[0m\n\u001b[0m          ^\u001b[0m\n\u001b[0;31mSyntaxError\u001b[0m\u001b[0;31m:\u001b[0m invalid syntax\n"
     ]
    }
   ],
   "source": [
    "Q2. What are the types of Probability distribution?\n",
    "\n",
    "There are several types of probability distributions, including:\n",
    "\n",
    "Discrete distributions: Binomial, Poisson, Geometric, etc.\n",
    "Continuous distributions: Normal, Uniform, Exponential, etc.\n",
    "Mixed distributions: A combination of discrete and continuous distributions."
   ]
  },
  {
   "cell_type": "code",
   "execution_count": 3,
   "id": "94a0f54e-1f1d-4f93-a5ec-0a369bf2c4c9",
   "metadata": {},
   "outputs": [],
   "source": [
    "#Q3. Write a Python function to calculate the probability density function of a normal distribution with given mean and standard deviation at a given point.\n",
    "\n",
    "import math\n",
    "\n",
    "def normal_pdf(x, mean, std_dev):\n",
    "    return (1 / (std_dev * math.sqrt(2 * math.pi))) * math.exp(-((x - mean) ** 2) / (2 * std_dev ** 2))"
   ]
  },
  {
   "cell_type": "code",
   "execution_count": 4,
   "id": "0886dd98-f2d4-4320-b026-9720fa22bf3f",
   "metadata": {},
   "outputs": [
    {
     "ename": "SyntaxError",
     "evalue": "invalid syntax (3786009954.py, line 1)",
     "output_type": "error",
     "traceback": [
      "\u001b[0;36m  Cell \u001b[0;32mIn[4], line 1\u001b[0;36m\u001b[0m\n\u001b[0;31m    Q4. What are the properties of Binomial distribution? Give two examples of events where binomial distribution can be applied.\u001b[0m\n\u001b[0m             ^\u001b[0m\n\u001b[0;31mSyntaxError\u001b[0m\u001b[0;31m:\u001b[0m invalid syntax\n"
     ]
    }
   ],
   "source": [
    "Q4. What are the properties of Binomial distribution? Give two examples of events where binomial distribution can be applied.\n",
    "\n",
    "The properties of Binomial distribution are:\n",
    "\n",
    "The number of trials (n) is fixed.\n",
    "Each trial has a constant probability of success (p).\n",
    "The trials are independent.\n",
    "The binomial distribution is symmetric when p = 0.5.\n",
    "Examples of events where binomial distribution can be applied:\n",
    "\n",
    "Coin tossing: The probability of getting heads or tails in a fixed number of coin tosses.\n",
    "Medical trials: The probability of a patient responding to a treatment in a fixed number of trials."
   ]
  },
  {
   "cell_type": "code",
   "execution_count": 6,
   "id": "fdc9e1e5-8dbf-4d0e-b082-39bf3105de3f",
   "metadata": {},
   "outputs": [
    {
     "data": {
      "image/png": "[encoded data removed]",
      "text/plain": [
       "<Figure size 640x480 with 1 Axes>"
      ]
     },
     "metadata": {},
     "output_type": "display_data"
    }
   ],
   "source": [
    "#Q5. Generate a random sample of size 1000 from a binomial distribution with probability of success 0.4 and plot a histogram of the results using matplotlib.\n",
    "\n",
    "import numpy as np\n",
    "import matplotlib.pyplot as plt\n",
    "\n",
    "n = 1000\n",
    "p = 0.4\n",
    "k = np.random.binomial(n, p, 1000)\n",
    "\n",
    "plt.hist(k, bins=20, edgecolor='black')\n",
    "plt.xlabel('Number of successes')\n",
    "plt.ylabel('Frequency')\n",
    "plt.title('Binomial Distribution (n=1000, p=0.4)')\n",
    "plt.show()"
   ]
  },
  {
   "cell_type": "code",
   "execution_count": 7,
   "id": "f97df0db-0c22-41f7-aca4-ee8be0aa48a3",
   "metadata": {},
   "outputs": [],
   "source": [
    "#Q6. Write a Python function to calculate the cumulative distribution function of a Poisson distribution with given mean at a given point.\n",
    "import math\n",
    "\n",
    "def poisson_cdf(x, mean):\n",
    "    cdf = 0\n",
    "    for i in range(x + 1):\n",
    "        cdf += (math.exp(-mean) * (mean ** i)) / math.factorial(i)\n",
    "    return cdf\n"
   ]
  },
  {
   "cell_type": "code",
   "execution_count": 8,
   "id": "119d3fe5-9e49-4413-8d32-a8eefbf04126",
   "metadata": {},
   "outputs": [
    {
     "ename": "SyntaxError",
     "evalue": "invalid syntax (4268701883.py, line 3)",
     "output_type": "error",
     "traceback": [
      "\u001b[0;36m  Cell \u001b[0;32mIn[8], line 3\u001b[0;36m\u001b[0m\n\u001b[0;31m    The main difference between Binomial and Poisson distributions is:\u001b[0m\n\u001b[0m        ^\u001b[0m\n\u001b[0;31mSyntaxError\u001b[0m\u001b[0;31m:\u001b[0m invalid syntax\n"
     ]
    }
   ],
   "source": [
    "Q7. How Binomial distribution different from Poisson distribution?\n",
    "\n",
    "The main difference between Binomial and Poisson distributions is:\n",
    "\n",
    "Binomial distribution models the number of successes in a fixed number of trials, with a constant probability of success.\n",
    "Poisson distribution models the number of events occurring in a fixed interval of time or space, with a constant rate of occurrence."
   ]
  },
  {
   "cell_type": "code",
   "execution_count": 10,
   "id": "a33e9d85-7706-4dce-b473-6a48ab23d614",
   "metadata": {},
   "outputs": [
    {
     "name": "stdout",
     "output_type": "stream",
     "text": [
      "Sample mean: 5.026\n",
      "Sample variance: 4.7753239999999995\n"
     ]
    }
   ],
   "source": [
    "#Q8. Generate a random sample of size 1000 from a Poisson distribution with mean 5 and calculate the sample mean and variance\n",
    "import numpy as np\n",
    "\n",
    "mean = 5\n",
    "n = 1000\n",
    "k = np.random.poisson(mean, 1000)\n",
    "\n",
    "sample_mean = np.mean(k)\n",
    "sample_variance = np.var(k)\n",
    "\n",
    "print('Sample mean:', sample_mean)\n",
    "print('Sample variance:', sample_variance)"
   ]
  },
  {
   "cell_type": "code",
   "execution_count": 11,
   "id": "da81e098-dd1d-4f6c-9dab-5f0b18e105bb",
   "metadata": {},
   "outputs": [
    {
     "ename": "SyntaxError",
     "evalue": "invalid syntax (1185775976.py, line 3)",
     "output_type": "error",
     "traceback": [
      "\u001b[0;36m  Cell \u001b[0;32mIn[11], line 3\u001b[0;36m\u001b[0m\n\u001b[0;31m    In Binomial distribution:\u001b[0m\n\u001b[0m       ^\u001b[0m\n\u001b[0;31mSyntaxError\u001b[0m\u001b[0;31m:\u001b[0m invalid syntax\n"
     ]
    }
   ],
   "source": [
    "Q9. How mean and variance are related in Binomial distribution and Poisson distribution?\n",
    "\n",
    "In Binomial distribution:\n",
    "\n",
    "Mean: np\n",
    "Variance: np(1-p)\n",
    "In Poisson distribution:\n",
    "\n",
    "Mean: λ (lambda)\n",
    "Variance: λ"
   ]
  },
  {
   "cell_type": "code",
   "execution_count": 12,
   "id": "767daef2-2088-4e48-9284-ff88672e691a",
   "metadata": {},
   "outputs": [
    {
     "ename": "SyntaxError",
     "evalue": "invalid syntax (2596295250.py, line 3)",
     "output_type": "error",
     "traceback": [
      "\u001b[0;36m  Cell \u001b[0;32mIn[12], line 3\u001b[0;36m\u001b[0m\n\u001b[0;31m    In a normal distribution, the least frequent data appears at the tails of the distribution, farthest from the mean. The probability of data points decreases as you move away from the mean, with the lowest probability at the extreme values.\u001b[0m\n\u001b[0m       ^\u001b[0m\n\u001b[0;31mSyntaxError\u001b[0m\u001b[0;31m:\u001b[0m invalid syntax\n"
     ]
    }
   ],
   "source": [
    "Q10. In normal distribution with respect to mean position, where does the least frequent data appear?\n",
    "\n",
    "In a normal distribution, the least frequent data appears at the tails of the distribution, farthest from the mean. The probability of data points decreases as you move away from the mean, with the lowest probability at the extreme values."
   ]
  },
  {
   "cell_type": "code",
   "execution_count": null,
   "id": "c78b7eeb-820b-4f13-adca-5941730dbca6",
   "metadata": {},
   "outputs": [],
   "source": []
  }
 ],
 "metadata": {
  "kernelspec": {
   "display_name": "Python 3 (ipykernel)",
   "language": "python",
   "name": "python3"
  },
  "language_info": {
   "codemirror_mode": {
    "name": "ipython",
    "version": 3
   },
   "file_extension": ".py",
   "mimetype": "text/x-python",
   "name": "python",
   "nbconvert_exporter": "python",
   "pygments_lexer": "ipython3",
   "version": "3.10.8"
  }
 },
 "nbformat": 4,
 "nbformat_minor": 5
}
